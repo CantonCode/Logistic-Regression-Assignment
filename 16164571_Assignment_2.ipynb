{
  "nbformat": 4,
  "nbformat_minor": 0,
  "metadata": {
    "kernelspec": {
      "display_name": "Python 3",
      "language": "python",
      "name": "python3"
    },
    "language_info": {
      "codemirror_mode": {
        "name": "ipython",
        "version": 3
      },
      "file_extension": ".py",
      "mimetype": "text/x-python",
      "name": "python",
      "nbconvert_exporter": "python",
      "pygments_lexer": "ipython3",
      "version": "3.8.3"
    },
    "colab": {
      "name": "16164571_Assignment_2.ipynb",
      "provenance": [],
      "collapsed_sections": [],
      "include_colab_link": true
    }
  },
  "cells": [
    {
      "cell_type": "markdown",
      "metadata": {
        "id": "view-in-github",
        "colab_type": "text"
      },
      "source": [
        "<a href=\"https://colab.research.google.com/github/CantonCode/Logistic-Regression-Assignment/blob/main/16164571_Assignment_2.ipynb\" target=\"_parent\"><img src=\"https://colab.research.google.com/assets/colab-badge.svg\" alt=\"Open In Colab\"/></a>"
      ]
    },
    {
      "cell_type": "code",
      "metadata": {
        "scrolled": false,
        "id": "aJrfT-FvX_yr",
        "outputId": "ab232881-c95c-445c-92aa-f3bb6ed99dc9"
      },
      "source": [
        "import tensorflow as tf\n",
        "import matplotlib.pyplot as plt\n",
        "import pathlib\n",
        "from tensorflow.keras.layers import Conv2D, MaxPooling2D, Dense, Dropout, Input, Flatten, SeparableConv2D\n",
        "from tensorflow.keras.models import Sequential, Model\n",
        "from tensorflow.keras.callbacks import History \n",
        "from tensorflow.keras.preprocessing.image import load_img, img_to_array\n",
        "import numpy as np\n",
        "import os\n",
        "import pandas as pd\n",
        "import glob\n",
        "import re\n",
        "\n",
        "print(os.getcwd())"
      ],
      "execution_count": null,
      "outputs": [
        {
          "output_type": "stream",
          "text": [
            "C:\\Users\\conor\\Desktop\\4th year\\Untitled Folder\n"
          ],
          "name": "stdout"
        }
      ]
    },
    {
      "cell_type": "markdown",
      "metadata": {
        "id": "oh0BBUVEZAGV"
      },
      "source": [
        "Reading in my csv files of maps. I am using regex search to find the id of each map and I add these too a labels array\n",
        "\n",
        "I create 5 channels for each of the map features create an array of 5 channels for each of the maps. \n",
        "\n",
        "map shape will be (49,49,5)"
      ]
    },
    {
      "cell_type": "code",
      "metadata": {
        "id": "YSqA04e6X_yt"
      },
      "source": [
        "mapDirectory = (r\"C:\\Users\\conor\\Desktop\\4th year\\Untitled Folder\\maps\")\n",
        "mapFiles = []\n",
        "channel1,channel2,channel3,channel4,channel5 = [],[],[],[],[]\n",
        "labels = []\n",
        "for file in os.listdir(mapDirectory):\n",
        "    fullPath = os.path.join(mapDirectory, file)\n",
        "    df = pd.read_csv(fullPath).values.reshape(49, 49)\n",
        "    mapFiles.append(df)\n",
        "    labels.append(re.search('map_(.+?).csv', file).group(1))\n",
        "    \n",
        "    ch1 = np.where(df != 10,0,df)\n",
        "    channel1.append(ch1)\n",
        "    \n",
        "    \n",
        "    ch2 = np.where(df != 1,0,df)\n",
        "    channel2.append(ch1)\n",
        "    \n",
        "    ch3 = np.where(df != 2,0,df)\n",
        "    channel3.append(ch1)\n",
        "    \n",
        "    ch4 = np.where(df != 8,0,df)\n",
        "    channel4.append(ch1)\n",
        "    \n",
        "    ch5 = np.where(df != 9,0,df)\n",
        "    channel5.append(ch1)\n",
        "    \n",
        "    \n",
        "    \n",
        "    \n",
        "mapFiles = np.array(mapFiles) \n",
        "channel1 = np.array(channel1)\n",
        "channel2 = np.array(channel2)\n",
        "channel3 = np.array(channel3)\n",
        "channel4 = np.array(channel4)\n",
        "channel5 = np.array(channel5)"
      ],
      "execution_count": null,
      "outputs": []
    },
    {
      "cell_type": "markdown",
      "metadata": {
        "id": "zyv_uFFfZrWL"
      },
      "source": [
        "Printing out the shapes of the arrays to ensure they are correct"
      ]
    },
    {
      "cell_type": "code",
      "metadata": {
        "id": "Ek3gvrWuX_yt",
        "outputId": "eb49f43b-f13e-4dd6-fb83-ef2216f673a9"
      },
      "source": [
        "print(mapFiles.shape)\n",
        "print(channel1.shape)\n",
        "print(channel2.shape)\n",
        "print(channel3.shape)\n",
        "print(channel4.shape)\n",
        "print(channel5.shape)"
      ],
      "execution_count": null,
      "outputs": [
        {
          "output_type": "stream",
          "text": [
            "(14665, 49, 49)\n",
            "(14665, 49, 49)\n",
            "(14665, 49, 49)\n",
            "(14665, 49, 49)\n",
            "(14665, 49, 49)\n",
            "(14665, 49, 49)\n"
          ],
          "name": "stdout"
        }
      ]
    },
    {
      "cell_type": "markdown",
      "metadata": {
        "id": "eW3ANal3act4"
      },
      "source": [
        "Append all the channels together onto one single array for each map"
      ]
    },
    {
      "cell_type": "code",
      "metadata": {
        "id": "rhn8vx52X_yt",
        "outputId": "0bf693e4-b2d2-4889-eb90-71af65ca34e6"
      },
      "source": [
        "maps = []\n",
        "maps.append([channel1,channel2,channel3,channel4,channel5])\n",
        "maps = np.array(maps)\n",
        "maps = maps.reshape(len(mapFiles),49,49,5)\n",
        "maps.shape"
      ],
      "execution_count": null,
      "outputs": [
        {
          "output_type": "execute_result",
          "data": {
            "text/plain": [
              "(14665, 49, 49, 5)"
            ]
          },
          "metadata": {
            "tags": []
          },
          "execution_count": 150
        }
      ]
    },
    {
      "cell_type": "code",
      "metadata": {
        "id": "qRdHedZnX_yt",
        "outputId": "c357c990-1ef2-48bd-9b35-db03c65666f5"
      },
      "source": [
        "len(labels)"
      ],
      "execution_count": null,
      "outputs": [
        {
          "output_type": "execute_result",
          "data": {
            "text/plain": [
              "14665"
            ]
          },
          "metadata": {
            "tags": []
          },
          "execution_count": 115
        }
      ]
    },
    {
      "cell_type": "markdown",
      "metadata": {
        "id": "E6L63NDPairD"
      },
      "source": [
        "read in the players files and data"
      ]
    },
    {
      "cell_type": "code",
      "metadata": {
        "id": "g-GSUcUVX_yt"
      },
      "source": [
        "playerDir = (r\"C:\\Users\\conor\\Desktop\\4th year\\Untitled Folder\\players\")\n",
        "playerFiles = []\n",
        "for file in os.listdir(playerDir):\n",
        "    fullPath = os.path.join(playerDir, file)\n",
        "    df = pd.read_csv(fullPath, dtype = str)\n",
        "    playerFiles.append(df)"
      ],
      "execution_count": null,
      "outputs": []
    },
    {
      "cell_type": "code",
      "metadata": {
        "id": "1G5bK3IlX_yt",
        "outputId": "e591ac24-d9be-4ba0-ddd1-c8565d9e565d"
      },
      "source": [
        "playerFiles[0]"
      ],
      "execution_count": null,
      "outputs": [
        {
          "output_type": "execute_result",
          "data": {
            "text/html": [
              "<div>\n",
              "<style scoped>\n",
              "    .dataframe tbody tr th:only-of-type {\n",
              "        vertical-align: middle;\n",
              "    }\n",
              "\n",
              "    .dataframe tbody tr th {\n",
              "        vertical-align: top;\n",
              "    }\n",
              "\n",
              "    .dataframe thead th {\n",
              "        text-align: right;\n",
              "    }\n",
              "</style>\n",
              "<table border=\"1\" class=\"dataframe\">\n",
              "  <thead>\n",
              "    <tr style=\"text-align: right;\">\n",
              "      <th></th>\n",
              "      <th>MapId</th>\n",
              "      <th>Win Rate</th>\n",
              "      <th>Loss Rate</th>\n",
              "      <th>Draw Rate</th>\n",
              "    </tr>\n",
              "  </thead>\n",
              "  <tbody>\n",
              "    <tr>\n",
              "      <th>0</th>\n",
              "      <td>338715339</td>\n",
              "      <td>289</td>\n",
              "      <td>219</td>\n",
              "      <td>492</td>\n",
              "    </tr>\n",
              "    <tr>\n",
              "      <th>1</th>\n",
              "      <td>978974935</td>\n",
              "      <td>208</td>\n",
              "      <td>87</td>\n",
              "      <td>705</td>\n",
              "    </tr>\n",
              "    <tr>\n",
              "      <th>2</th>\n",
              "      <td>728758576</td>\n",
              "      <td>165</td>\n",
              "      <td>357</td>\n",
              "      <td>478</td>\n",
              "    </tr>\n",
              "    <tr>\n",
              "      <th>3</th>\n",
              "      <td>204725116</td>\n",
              "      <td>185</td>\n",
              "      <td>122</td>\n",
              "      <td>693</td>\n",
              "    </tr>\n",
              "    <tr>\n",
              "      <th>4</th>\n",
              "      <td>1901294908</td>\n",
              "      <td>4</td>\n",
              "      <td>15</td>\n",
              "      <td>981</td>\n",
              "    </tr>\n",
              "    <tr>\n",
              "      <th>5</th>\n",
              "      <td>1567030292</td>\n",
              "      <td>250</td>\n",
              "      <td>589</td>\n",
              "      <td>161</td>\n",
              "    </tr>\n",
              "    <tr>\n",
              "      <th>6</th>\n",
              "      <td>2029429188</td>\n",
              "      <td>496</td>\n",
              "      <td>488</td>\n",
              "      <td>16</td>\n",
              "    </tr>\n",
              "    <tr>\n",
              "      <th>7</th>\n",
              "      <td>33878278</td>\n",
              "      <td>7</td>\n",
              "      <td>37</td>\n",
              "      <td>956</td>\n",
              "    </tr>\n",
              "    <tr>\n",
              "      <th>8</th>\n",
              "      <td>225769727</td>\n",
              "      <td>39</td>\n",
              "      <td>18</td>\n",
              "      <td>943</td>\n",
              "    </tr>\n",
              "    <tr>\n",
              "      <th>9</th>\n",
              "      <td>1927023283</td>\n",
              "      <td>827</td>\n",
              "      <td>103</td>\n",
              "      <td>70</td>\n",
              "    </tr>\n",
              "    <tr>\n",
              "      <th>10</th>\n",
              "      <td>853603721</td>\n",
              "      <td>566</td>\n",
              "      <td>309</td>\n",
              "      <td>125</td>\n",
              "    </tr>\n",
              "    <tr>\n",
              "      <th>11</th>\n",
              "      <td>1954917924</td>\n",
              "      <td>565</td>\n",
              "      <td>425</td>\n",
              "      <td>10</td>\n",
              "    </tr>\n",
              "    <tr>\n",
              "      <th>12</th>\n",
              "      <td>12986403</td>\n",
              "      <td>115</td>\n",
              "      <td>67</td>\n",
              "      <td>818</td>\n",
              "    </tr>\n",
              "    <tr>\n",
              "      <th>13</th>\n",
              "      <td>984553096</td>\n",
              "      <td>260</td>\n",
              "      <td>527</td>\n",
              "      <td>213</td>\n",
              "    </tr>\n",
              "    <tr>\n",
              "      <th>14</th>\n",
              "      <td>1440797263</td>\n",
              "      <td>455</td>\n",
              "      <td>519</td>\n",
              "      <td>26</td>\n",
              "    </tr>\n",
              "    <tr>\n",
              "      <th>15</th>\n",
              "      <td>1337546890</td>\n",
              "      <td>330</td>\n",
              "      <td>292</td>\n",
              "      <td>378</td>\n",
              "    </tr>\n",
              "    <tr>\n",
              "      <th>16</th>\n",
              "      <td>300530293</td>\n",
              "      <td>38</td>\n",
              "      <td>59</td>\n",
              "      <td>903</td>\n",
              "    </tr>\n",
              "    <tr>\n",
              "      <th>17</th>\n",
              "      <td>1979176592</td>\n",
              "      <td>51</td>\n",
              "      <td>17</td>\n",
              "      <td>28</td>\n",
              "    </tr>\n",
              "  </tbody>\n",
              "</table>\n",
              "</div>"
            ],
            "text/plain": [
              "         MapId Win Rate Loss Rate Draw Rate\n",
              "0    338715339      289       219       492\n",
              "1    978974935      208        87       705\n",
              "2    728758576      165       357       478\n",
              "3    204725116      185       122       693\n",
              "4   1901294908        4        15       981\n",
              "5   1567030292      250       589       161\n",
              "6   2029429188      496       488        16\n",
              "7     33878278        7        37       956\n",
              "8    225769727       39        18       943\n",
              "9   1927023283      827       103        70\n",
              "10   853603721      566       309       125\n",
              "11  1954917924      565       425        10\n",
              "12    12986403      115        67       818\n",
              "13   984553096      260       527       213\n",
              "14  1440797263      455       519        26\n",
              "15  1337546890      330       292       378\n",
              "16   300530293       38        59       903\n",
              "17  1979176592       51        17        28"
            ]
          },
          "metadata": {
            "tags": []
          },
          "execution_count": 117
        }
      ]
    },
    {
      "cell_type": "code",
      "metadata": {
        "id": "4vOfNm9jX_yt",
        "outputId": "b2783ac4-6242-451f-a146-9eb581e0e1d2"
      },
      "source": [
        "len(playerFiles)"
      ],
      "execution_count": null,
      "outputs": [
        {
          "output_type": "execute_result",
          "data": {
            "text/plain": [
              "2217"
            ]
          },
          "metadata": {
            "tags": []
          },
          "execution_count": 118
        }
      ]
    },
    {
      "cell_type": "markdown",
      "metadata": {
        "id": "QeD1jSghapTp"
      },
      "source": [
        "Preformed some pre processing of the player data which removes any empty files from the player data"
      ]
    },
    {
      "cell_type": "code",
      "metadata": {
        "id": "Bhnabw1NX_yt",
        "outputId": "9056e8f9-bcf9-4085-e575-d0758a3f94ad"
      },
      "source": [
        "playerDf = pd.concat(playerFiles, axis = 0, ignore_index = True)\n",
        "playerDf.drop(playerDf.filter(regex=\"Unnamed\"), axis=1, inplace=True)\n",
        "playerDf.head()"
      ],
      "execution_count": null,
      "outputs": [
        {
          "output_type": "execute_result",
          "data": {
            "text/html": [
              "<div>\n",
              "<style scoped>\n",
              "    .dataframe tbody tr th:only-of-type {\n",
              "        vertical-align: middle;\n",
              "    }\n",
              "\n",
              "    .dataframe tbody tr th {\n",
              "        vertical-align: top;\n",
              "    }\n",
              "\n",
              "    .dataframe thead th {\n",
              "        text-align: right;\n",
              "    }\n",
              "</style>\n",
              "<table border=\"1\" class=\"dataframe\">\n",
              "  <thead>\n",
              "    <tr style=\"text-align: right;\">\n",
              "      <th></th>\n",
              "      <th>MapId</th>\n",
              "      <th>Win Rate</th>\n",
              "      <th>Loss Rate</th>\n",
              "      <th>Draw Rate</th>\n",
              "    </tr>\n",
              "  </thead>\n",
              "  <tbody>\n",
              "    <tr>\n",
              "      <th>0</th>\n",
              "      <td>338715339</td>\n",
              "      <td>289</td>\n",
              "      <td>219</td>\n",
              "      <td>492</td>\n",
              "    </tr>\n",
              "    <tr>\n",
              "      <th>1</th>\n",
              "      <td>978974935</td>\n",
              "      <td>208</td>\n",
              "      <td>87</td>\n",
              "      <td>705</td>\n",
              "    </tr>\n",
              "    <tr>\n",
              "      <th>2</th>\n",
              "      <td>728758576</td>\n",
              "      <td>165</td>\n",
              "      <td>357</td>\n",
              "      <td>478</td>\n",
              "    </tr>\n",
              "    <tr>\n",
              "      <th>3</th>\n",
              "      <td>204725116</td>\n",
              "      <td>185</td>\n",
              "      <td>122</td>\n",
              "      <td>693</td>\n",
              "    </tr>\n",
              "    <tr>\n",
              "      <th>4</th>\n",
              "      <td>1901294908</td>\n",
              "      <td>4</td>\n",
              "      <td>15</td>\n",
              "      <td>981</td>\n",
              "    </tr>\n",
              "  </tbody>\n",
              "</table>\n",
              "</div>"
            ],
            "text/plain": [
              "        MapId Win Rate Loss Rate Draw Rate\n",
              "0   338715339      289       219       492\n",
              "1   978974935      208        87       705\n",
              "2   728758576      165       357       478\n",
              "3   204725116      185       122       693\n",
              "4  1901294908        4        15       981"
            ]
          },
          "metadata": {
            "tags": []
          },
          "execution_count": 119
        }
      ]
    },
    {
      "cell_type": "markdown",
      "metadata": {
        "id": "CEQY969Ra6CT"
      },
      "source": [
        "we iterate through the each row of data in the player data field.\n",
        "\n",
        "we calculate if the player won or lost \n",
        "\n",
        "if the win rate is higher than the loss rate and the draw rate they won and it is assigned a 0\n",
        "\n",
        "the the loss rate is higher than the win rate and the draw rate we assign it a 1 a\n",
        "\n",
        "the draw rate is higher than the win or loss rate then we assign it a 2"
      ]
    },
    {
      "cell_type": "code",
      "metadata": {
        "id": "YZMAF4RDX_yt"
      },
      "source": [
        "for i, row in playerDf.iterrows():\n",
        "    if(int(row['Win Rate']) > int(row['Loss Rate'])) and (int(row['Win Rate']) > int(row['Draw Rate'])):\n",
        "        playerDf.at[i, 'Outcome']=0 \n",
        "    elif (int(row['Win Rate']) < int(row['Loss Rate'])) and (int(row['Loss Rate']) > int(row['Draw Rate'])):\n",
        "        playerDf.at[i, 'Outcome']=1 \n",
        "    else:\n",
        "        playerDf.at[i, 'Outcome']=2 "
      ],
      "execution_count": null,
      "outputs": []
    },
    {
      "cell_type": "markdown",
      "metadata": {
        "id": "486sl747bbB2"
      },
      "source": [
        "we filter out any of the player data where they drew as are just looking to predict a win or a loss not a draw"
      ]
    },
    {
      "cell_type": "code",
      "metadata": {
        "id": "BETE-TjjX_yt",
        "outputId": "297f158c-1bc0-4777-9066-bbc88a6caff0"
      },
      "source": [
        "playerDf = playerDf[playerDf.Outcome != 2]\n",
        "playerDf.head"
      ],
      "execution_count": null,
      "outputs": [
        {
          "output_type": "execute_result",
          "data": {
            "text/plain": [
              "<bound method NDFrame.head of            MapId Win Rate Loss Rate Draw Rate  Outcome\n",
              "5     1567030292      250       589       161      1.0\n",
              "6     2029429188      496       488        16      0.0\n",
              "9     1927023283      827       103        70      0.0\n",
              "10     853603721      566       309       125      0.0\n",
              "11    1954917924      565       425        10      0.0\n",
              "...          ...      ...       ...       ...      ...\n",
              "8950   387999470      276       133       127      0.0\n",
              "8952  2008057506      409       560        31      1.0\n",
              "8953  1875012101      357       408       235      1.0\n",
              "8954   568706823      109       145        11      1.0\n",
              "8955  1597566094        3         1         0      0.0\n",
              "\n",
              "[6809 rows x 5 columns]>"
            ]
          },
          "metadata": {
            "tags": []
          },
          "execution_count": 121
        }
      ]
    },
    {
      "cell_type": "code",
      "metadata": {
        "id": "9QXCLKx0X_yt",
        "outputId": "894fc846-d3f7-4780-d292-0e08c54c6905"
      },
      "source": [
        "len(playerDf)"
      ],
      "execution_count": null,
      "outputs": [
        {
          "output_type": "execute_result",
          "data": {
            "text/plain": [
              "6809"
            ]
          },
          "metadata": {
            "tags": []
          },
          "execution_count": 122
        }
      ]
    },
    {
      "cell_type": "code",
      "metadata": {
        "id": "aWQ8prxnX_yt",
        "outputId": "27691a96-06c2-46d8-997c-b11d2dc20c2b"
      },
      "source": [
        "maps = maps[:len(playerDf)]\n",
        "X = maps\n",
        "y = playerDf['Outcome']\n",
        "print(len(maps))\n",
        "print(len(y))"
      ],
      "execution_count": null,
      "outputs": [
        {
          "output_type": "stream",
          "text": [
            "6809\n",
            "6809\n"
          ],
          "name": "stdout"
        }
      ]
    },
    {
      "cell_type": "code",
      "metadata": {
        "id": "aA1NWOjoX_yt"
      },
      "source": [
        "def build_model():      \n",
        "        input_img = Input(shape=(49,49,5), name='ImageInput')\n",
        "        x = Conv2D(64, (3,3), activation='relu', padding='same', name='Conv1_1')(input_img)\n",
        "        x = Conv2D(64, (3,3), activation='relu', padding='same', name='Conv1_2')(x)\n",
        "        x = MaxPooling2D((2,2), name='pool1')(x)\n",
        "        \n",
        "        x = Flatten(name='flatten')(x)\n",
        "        x = Dense(1024, activation='relu', name='fc1')(x)\n",
        "        x = Dropout(0.7, name='dropout1')(x)\n",
        "        x = Dense(512, activation='relu', name='fc2')(x)\n",
        "        x = Dropout(0.5, name='dropout2')(x)\n",
        "        \n",
        "        x = Dense(1, activation='sigmoid', name='fc3')(x)\n",
        "        \n",
        "        model = Model(inputs=input_img, outputs=x)\n",
        "        return model"
      ],
      "execution_count": null,
      "outputs": []
    },
    {
      "cell_type": "code",
      "metadata": {
        "id": "kJ0BwUcOX_yt",
        "outputId": "3d143dd2-9786-46cb-e2f6-86d2480cd5e8"
      },
      "source": [
        "model = build_model()\n",
        "model.summary()"
      ],
      "execution_count": null,
      "outputs": [
        {
          "output_type": "stream",
          "text": [
            "Model: \"model_5\"\n",
            "_________________________________________________________________\n",
            "Layer (type)                 Output Shape              Param #   \n",
            "=================================================================\n",
            "ImageInput (InputLayer)      [(None, 49, 49, 5)]       0         \n",
            "_________________________________________________________________\n",
            "Conv1_1 (Conv2D)             (None, 49, 49, 64)        2944      \n",
            "_________________________________________________________________\n",
            "Conv1_2 (Conv2D)             (None, 49, 49, 64)        36928     \n",
            "_________________________________________________________________\n",
            "pool1 (MaxPooling2D)         (None, 24, 24, 64)        0         \n",
            "_________________________________________________________________\n",
            "flatten (Flatten)            (None, 36864)             0         \n",
            "_________________________________________________________________\n",
            "fc1 (Dense)                  (None, 1024)              37749760  \n",
            "_________________________________________________________________\n",
            "dropout1 (Dropout)           (None, 1024)              0         \n",
            "_________________________________________________________________\n",
            "fc2 (Dense)                  (None, 512)               524800    \n",
            "_________________________________________________________________\n",
            "dropout2 (Dropout)           (None, 512)               0         \n",
            "_________________________________________________________________\n",
            "fc3 (Dense)                  (None, 1)                 513       \n",
            "=================================================================\n",
            "Total params: 38,314,945\n",
            "Trainable params: 38,314,945\n",
            "Non-trainable params: 0\n",
            "_________________________________________________________________\n"
          ],
          "name": "stdout"
        }
      ]
    },
    {
      "cell_type": "code",
      "metadata": {
        "id": "KXQVhgFCX_yt"
      },
      "source": [
        "base_learning_rate = 0.001\n",
        "model.compile(optimizer = tf.keras.optimizers.Adam(lr = base_learning_rate),\n",
        "             loss = tf.keras.losses.MeanSquaredError(),\n",
        "             metrics = ['accuracy','mean_absolute_error', tf.keras.metrics.RootMeanSquaredError()])"
      ],
      "execution_count": null,
      "outputs": []
    },
    {
      "cell_type": "code",
      "metadata": {
        "id": "pFkXJ8aoX_yt"
      },
      "source": [
        "def scheduler(epoch, lr):\n",
        "    if epoch < 3:\n",
        "        return lr\n",
        "    else:\n",
        "        return lr / 5 \n",
        "    \n",
        "scheduler_callback = tf.keras.callbacks.LearningRateScheduler(scheduler)\n",
        "early_stopping_callback = tf.keras.callbacks.EarlyStopping(patience=3,restore_best_weights=True)"
      ],
      "execution_count": null,
      "outputs": []
    },
    {
      "cell_type": "code",
      "metadata": {
        "id": "2B60k-MYX_yt"
      },
      "source": [
        "history = History()"
      ],
      "execution_count": null,
      "outputs": []
    },
    {
      "cell_type": "code",
      "metadata": {
        "id": "AV2mx6iTX_yt",
        "outputId": "1e605737-a556-4dce-a42d-3e251e2b05ef"
      },
      "source": [
        "model.fit(X_train, y_train, epochs = 10, callbacks = [scheduler_callback, early_stopping_callback,history],  \n",
        "          validation_data=(X_test,y_test))\n"
      ],
      "execution_count": null,
      "outputs": [
        {
          "output_type": "stream",
          "text": [
            "Epoch 1/10\n",
            "149/149 [==============================] - 40s 269ms/step - loss: 0.2191 - accuracy: 0.6416 - mean_absolute_error: 0.4446 - root_mean_squared_error: 0.4681 - val_loss: 0.2437 - val_accuracy: 0.5835 - val_mean_absolute_error: 0.4701 - val_root_mean_squared_error: 0.4936\n",
            "Epoch 2/10\n",
            "149/149 [==============================] - 40s 266ms/step - loss: 0.2018 - accuracy: 0.6815 - mean_absolute_error: 0.4128 - root_mean_squared_error: 0.4492 - val_loss: 0.2671 - val_accuracy: 0.5482 - val_mean_absolute_error: 0.4689 - val_root_mean_squared_error: 0.5168\n",
            "Epoch 3/10\n",
            "149/149 [==============================] - 39s 262ms/step - loss: 0.1825 - accuracy: 0.7197 - mean_absolute_error: 0.3693 - root_mean_squared_error: 0.4272 - val_loss: 0.2832 - val_accuracy: 0.5374 - val_mean_absolute_error: 0.4739 - val_root_mean_squared_error: 0.5322\n",
            "Epoch 4/10\n",
            "149/149 [==============================] - 39s 264ms/step - loss: 0.1585 - accuracy: 0.7673 - mean_absolute_error: 0.3404 - root_mean_squared_error: 0.3981 - val_loss: 0.2947 - val_accuracy: 0.5311 - val_mean_absolute_error: 0.4743 - val_root_mean_squared_error: 0.5429\n"
          ],
          "name": "stdout"
        },
        {
          "output_type": "execute_result",
          "data": {
            "text/plain": [
              "<tensorflow.python.keras.callbacks.History at 0x1974ab20a60>"
            ]
          },
          "metadata": {
            "tags": []
          },
          "execution_count": 177
        }
      ]
    },
    {
      "cell_type": "code",
      "metadata": {
        "id": "WloHrzToX_yt"
      },
      "source": [
        "predictions = model.predict(X_test)"
      ],
      "execution_count": null,
      "outputs": []
    },
    {
      "cell_type": "code",
      "metadata": {
        "id": "EWhOJnUJX_yt",
        "outputId": "18284b69-6e83-4697-8f0f-869b6ef15a68"
      },
      "source": [
        "hist = pd.DataFrame(history.history)\n",
        "hist['epoch'] = history.epoch\n",
        "hist.tail()"
      ],
      "execution_count": null,
      "outputs": [
        {
          "output_type": "execute_result",
          "data": {
            "text/html": [
              "<div>\n",
              "<style scoped>\n",
              "    .dataframe tbody tr th:only-of-type {\n",
              "        vertical-align: middle;\n",
              "    }\n",
              "\n",
              "    .dataframe tbody tr th {\n",
              "        vertical-align: top;\n",
              "    }\n",
              "\n",
              "    .dataframe thead th {\n",
              "        text-align: right;\n",
              "    }\n",
              "</style>\n",
              "<table border=\"1\" class=\"dataframe\">\n",
              "  <thead>\n",
              "    <tr style=\"text-align: right;\">\n",
              "      <th></th>\n",
              "      <th>loss</th>\n",
              "      <th>accuracy</th>\n",
              "      <th>mean_absolute_error</th>\n",
              "      <th>root_mean_squared_error</th>\n",
              "      <th>val_loss</th>\n",
              "      <th>val_accuracy</th>\n",
              "      <th>val_mean_absolute_error</th>\n",
              "      <th>val_root_mean_squared_error</th>\n",
              "      <th>lr</th>\n",
              "      <th>epoch</th>\n",
              "    </tr>\n",
              "  </thead>\n",
              "  <tbody>\n",
              "    <tr>\n",
              "      <th>0</th>\n",
              "      <td>0.219120</td>\n",
              "      <td>0.641628</td>\n",
              "      <td>0.444566</td>\n",
              "      <td>0.468103</td>\n",
              "      <td>0.243669</td>\n",
              "      <td>0.583456</td>\n",
              "      <td>0.470109</td>\n",
              "      <td>0.493628</td>\n",
              "      <td>0.00020</td>\n",
              "      <td>0</td>\n",
              "    </tr>\n",
              "    <tr>\n",
              "      <th>1</th>\n",
              "      <td>0.201816</td>\n",
              "      <td>0.681494</td>\n",
              "      <td>0.412841</td>\n",
              "      <td>0.449239</td>\n",
              "      <td>0.267100</td>\n",
              "      <td>0.548213</td>\n",
              "      <td>0.468925</td>\n",
              "      <td>0.516818</td>\n",
              "      <td>0.00020</td>\n",
              "      <td>1</td>\n",
              "    </tr>\n",
              "    <tr>\n",
              "      <th>2</th>\n",
              "      <td>0.182481</td>\n",
              "      <td>0.719681</td>\n",
              "      <td>0.369347</td>\n",
              "      <td>0.427177</td>\n",
              "      <td>0.283235</td>\n",
              "      <td>0.537445</td>\n",
              "      <td>0.473881</td>\n",
              "      <td>0.532198</td>\n",
              "      <td>0.00020</td>\n",
              "      <td>2</td>\n",
              "    </tr>\n",
              "    <tr>\n",
              "      <th>3</th>\n",
              "      <td>0.158471</td>\n",
              "      <td>0.767310</td>\n",
              "      <td>0.340445</td>\n",
              "      <td>0.398085</td>\n",
              "      <td>0.294695</td>\n",
              "      <td>0.531082</td>\n",
              "      <td>0.474337</td>\n",
              "      <td>0.542858</td>\n",
              "      <td>0.00004</td>\n",
              "      <td>3</td>\n",
              "    </tr>\n",
              "  </tbody>\n",
              "</table>\n",
              "</div>"
            ],
            "text/plain": [
              "       loss  accuracy  mean_absolute_error  root_mean_squared_error  val_loss  \\\n",
              "0  0.219120  0.641628             0.444566                 0.468103  0.243669   \n",
              "1  0.201816  0.681494             0.412841                 0.449239  0.267100   \n",
              "2  0.182481  0.719681             0.369347                 0.427177  0.283235   \n",
              "3  0.158471  0.767310             0.340445                 0.398085  0.294695   \n",
              "\n",
              "   val_accuracy  val_mean_absolute_error  val_root_mean_squared_error  \\\n",
              "0      0.583456                 0.470109                     0.493628   \n",
              "1      0.548213                 0.468925                     0.516818   \n",
              "2      0.537445                 0.473881                     0.532198   \n",
              "3      0.531082                 0.474337                     0.542858   \n",
              "\n",
              "        lr  epoch  \n",
              "0  0.00020      0  \n",
              "1  0.00020      1  \n",
              "2  0.00020      2  \n",
              "3  0.00004      3  "
            ]
          },
          "metadata": {
            "tags": []
          },
          "execution_count": 178
        }
      ]
    },
    {
      "cell_type": "markdown",
      "metadata": {
        "id": "WkwoHGB3cHj6"
      },
      "source": [
        "we augment the data by usuing the np.flipud to flip the map data and also np.roll to shift the data by 2 posistions\n",
        "\n",
        "I also copy the player data and add it onto the end of the player data that already exists"
      ]
    },
    {
      "cell_type": "code",
      "metadata": {
        "id": "-tIdHKl8X_yu"
      },
      "source": [
        "temp = []\n",
        "for amap in maps:\n",
        "    amap =  np.roll(amap,2)\n",
        "    temp.append(np.array(np.flipud(amap)))\n",
        "    \n",
        "arr = np.array(temp)\n",
        "aug_map_data = np.concatenate((maps, arr))\n",
        "\n",
        "playerDfCopy = playerDf.copy()\n",
        "aug_player_data = pd.concat([playerDf,playerDfCopy])\n",
        "\n",
        "\n",
        "\n",
        "len(aug_map_data)"
      ],
      "execution_count": null,
      "outputs": []
    },
    {
      "cell_type": "code",
      "metadata": {
        "id": "7gRRBI4sX_yu",
        "outputId": "010a0d41-9365-43dc-b135-802a29d69b11"
      },
      "source": [
        "augX = aug_map_data\n",
        "augy = aug_player_data['Outcome']\n",
        "print(len(augX))\n",
        "print(len(augy))"
      ],
      "execution_count": null,
      "outputs": [
        {
          "output_type": "stream",
          "text": [
            "13618\n",
            "13618\n"
          ],
          "name": "stdout"
        }
      ]
    },
    {
      "cell_type": "code",
      "metadata": {
        "id": "pK8VQNVjX_yu"
      },
      "source": [
        "augX_train, augX_test, augy_train, augy_test = train_test_split(augX, augy, test_size = 0.3, random_state = 40)"
      ],
      "execution_count": null,
      "outputs": []
    },
    {
      "cell_type": "code",
      "metadata": {
        "id": "1gryeTduX_yu"
      },
      "source": [
        "augModel = build_model()"
      ],
      "execution_count": null,
      "outputs": []
    },
    {
      "cell_type": "code",
      "metadata": {
        "id": "PoBMawzoX_yu"
      },
      "source": [
        "augModel.compile(optimizer = tf.keras.optimizers.Adam(lr = base_learning_rate),\n",
        "             loss = tf.keras.losses.MeanSquaredError(),\n",
        "             metrics = ['accuracy','mean_absolute_error', tf.keras.metrics.RootMeanSquaredError()])"
      ],
      "execution_count": null,
      "outputs": []
    },
    {
      "cell_type": "code",
      "metadata": {
        "id": "9drY6FvhX_yu"
      },
      "source": [
        "history2 = History()"
      ],
      "execution_count": null,
      "outputs": []
    },
    {
      "cell_type": "code",
      "metadata": {
        "scrolled": true,
        "id": "W_opUBGiX_yu",
        "outputId": "4f426752-cb28-49cf-e7da-d284d4a3413c"
      },
      "source": [
        "augModel.fit(augX_train, augy_train, epochs = 10, callbacks = [scheduler_callback, early_stopping_callback,history2],  \n",
        "          validation_data=(augX_test,augy_test))"
      ],
      "execution_count": null,
      "outputs": [
        {
          "output_type": "stream",
          "text": [
            "Epoch 1/10\n",
            "298/298 [==============================] - 81s 271ms/step - loss: 0.2352 - accuracy: 0.6169 - mean_absolute_error: 0.4699 - root_mean_squared_error: 0.4850 - val_loss: 0.2393 - val_accuracy: 0.6104 - val_mean_absolute_error: 0.4747 - val_root_mean_squared_error: 0.4892\n",
            "Epoch 2/10\n",
            "298/298 [==============================] - 79s 266ms/step - loss: 0.2333 - accuracy: 0.6172 - mean_absolute_error: 0.4667 - root_mean_squared_error: 0.4830 - val_loss: 0.2411 - val_accuracy: 0.6094 - val_mean_absolute_error: 0.4793 - val_root_mean_squared_error: 0.4910\n",
            "Epoch 3/10\n",
            "298/298 [==============================] - 82s 274ms/step - loss: 0.2285 - accuracy: 0.6240 - mean_absolute_error: 0.4580 - root_mean_squared_error: 0.4780 - val_loss: 0.2465 - val_accuracy: 0.5886 - val_mean_absolute_error: 0.4758 - val_root_mean_squared_error: 0.4965\n",
            "Epoch 4/10\n",
            "298/298 [==============================] - 84s 282ms/step - loss: 0.2163 - accuracy: 0.6546 - mean_absolute_error: 0.4408 - root_mean_squared_error: 0.4650 - val_loss: 0.2517 - val_accuracy: 0.5739 - val_mean_absolute_error: 0.4731 - val_root_mean_squared_error: 0.5017\n"
          ],
          "name": "stdout"
        },
        {
          "output_type": "execute_result",
          "data": {
            "text/plain": [
              "<tensorflow.python.keras.callbacks.History at 0x1974aaffe50>"
            ]
          },
          "metadata": {
            "tags": []
          },
          "execution_count": 233
        }
      ]
    },
    {
      "cell_type": "code",
      "metadata": {
        "id": "hi8QWscHX_yu",
        "outputId": "578a68ba-6086-4b40-be9e-55106bcc3f57"
      },
      "source": [
        "his = pd.DataFrame(history2.history)\n",
        "his['epoch'] = history.epoch\n",
        "his.tail()"
      ],
      "execution_count": null,
      "outputs": [
        {
          "output_type": "execute_result",
          "data": {
            "text/html": [
              "<div>\n",
              "<style scoped>\n",
              "    .dataframe tbody tr th:only-of-type {\n",
              "        vertical-align: middle;\n",
              "    }\n",
              "\n",
              "    .dataframe tbody tr th {\n",
              "        vertical-align: top;\n",
              "    }\n",
              "\n",
              "    .dataframe thead th {\n",
              "        text-align: right;\n",
              "    }\n",
              "</style>\n",
              "<table border=\"1\" class=\"dataframe\">\n",
              "  <thead>\n",
              "    <tr style=\"text-align: right;\">\n",
              "      <th></th>\n",
              "      <th>loss</th>\n",
              "      <th>accuracy</th>\n",
              "      <th>mean_absolute_error</th>\n",
              "      <th>root_mean_squared_error</th>\n",
              "      <th>val_loss</th>\n",
              "      <th>val_accuracy</th>\n",
              "      <th>val_mean_absolute_error</th>\n",
              "      <th>val_root_mean_squared_error</th>\n",
              "      <th>lr</th>\n",
              "      <th>epoch</th>\n",
              "    </tr>\n",
              "  </thead>\n",
              "  <tbody>\n",
              "    <tr>\n",
              "      <th>0</th>\n",
              "      <td>0.235179</td>\n",
              "      <td>0.616870</td>\n",
              "      <td>0.469902</td>\n",
              "      <td>0.484953</td>\n",
              "      <td>0.239330</td>\n",
              "      <td>0.610377</td>\n",
              "      <td>0.474686</td>\n",
              "      <td>0.489214</td>\n",
              "      <td>0.00020</td>\n",
              "      <td>0</td>\n",
              "    </tr>\n",
              "    <tr>\n",
              "      <th>1</th>\n",
              "      <td>0.233253</td>\n",
              "      <td>0.617184</td>\n",
              "      <td>0.466715</td>\n",
              "      <td>0.482963</td>\n",
              "      <td>0.241103</td>\n",
              "      <td>0.609398</td>\n",
              "      <td>0.479298</td>\n",
              "      <td>0.491022</td>\n",
              "      <td>0.00020</td>\n",
              "      <td>1</td>\n",
              "    </tr>\n",
              "    <tr>\n",
              "      <th>2</th>\n",
              "      <td>0.228485</td>\n",
              "      <td>0.624003</td>\n",
              "      <td>0.457964</td>\n",
              "      <td>0.478001</td>\n",
              "      <td>0.246465</td>\n",
              "      <td>0.588595</td>\n",
              "      <td>0.475774</td>\n",
              "      <td>0.496452</td>\n",
              "      <td>0.00020</td>\n",
              "      <td>2</td>\n",
              "    </tr>\n",
              "    <tr>\n",
              "      <th>3</th>\n",
              "      <td>0.216261</td>\n",
              "      <td>0.654637</td>\n",
              "      <td>0.440791</td>\n",
              "      <td>0.465039</td>\n",
              "      <td>0.251740</td>\n",
              "      <td>0.573911</td>\n",
              "      <td>0.473065</td>\n",
              "      <td>0.501737</td>\n",
              "      <td>0.00004</td>\n",
              "      <td>3</td>\n",
              "    </tr>\n",
              "  </tbody>\n",
              "</table>\n",
              "</div>"
            ],
            "text/plain": [
              "       loss  accuracy  mean_absolute_error  root_mean_squared_error  val_loss  \\\n",
              "0  0.235179  0.616870             0.469902                 0.484953  0.239330   \n",
              "1  0.233253  0.617184             0.466715                 0.482963  0.241103   \n",
              "2  0.228485  0.624003             0.457964                 0.478001  0.246465   \n",
              "3  0.216261  0.654637             0.440791                 0.465039  0.251740   \n",
              "\n",
              "   val_accuracy  val_mean_absolute_error  val_root_mean_squared_error  \\\n",
              "0      0.610377                 0.474686                     0.489214   \n",
              "1      0.609398                 0.479298                     0.491022   \n",
              "2      0.588595                 0.475774                     0.496452   \n",
              "3      0.573911                 0.473065                     0.501737   \n",
              "\n",
              "        lr  epoch  \n",
              "0  0.00020      0  \n",
              "1  0.00020      1  \n",
              "2  0.00020      2  \n",
              "3  0.00004      3  "
            ]
          },
          "metadata": {
            "tags": []
          },
          "execution_count": 235
        }
      ]
    }
  ]
}